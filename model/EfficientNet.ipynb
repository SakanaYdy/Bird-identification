{
 "cells": [
  {
   "cell_type": "code",
   "execution_count": 1,
   "metadata": {
    "collapsed": true,
    "ExecuteTime": {
     "end_time": "2024-11-28T09:55:20.845557600Z",
     "start_time": "2024-11-28T09:55:20.833077300Z"
    }
   },
   "outputs": [],
   "source": [
    "import numpy as np # linear algebra\n",
    "import pandas as pd # data processing, CSV file I/O (e.g. pd.read_csv)\n",
    "import copy\n",
    "import time\n",
    "from tqdm import tqdm\n",
    "import os"
   ]
  },
  {
   "cell_type": "code",
   "execution_count": 2,
   "outputs": [],
   "source": [
    "import torch\n",
    "import torchvision\n",
    "from torchvision import datasets, transforms\n",
    "from torch import nn, optim\n",
    "from torch.nn import functional as F\n",
    "from torch.utils.data import DataLoader, sampler, random_split\n",
    "\n",
    "import timm\n",
    "from timm.loss import LabelSmoothingCrossEntropy\n",
    "from timm.data import create_transform\n",
    "\n",
    "import matplotlib.pyplot as plt\n",
    "import seaborn as sns\n",
    "import numpy as np\n",
    "from torchvision import models"
   ],
   "metadata": {
    "collapsed": false,
    "ExecuteTime": {
     "end_time": "2024-11-28T09:55:23.659501Z",
     "start_time": "2024-11-28T09:55:20.844428100Z"
    }
   }
  },
  {
   "cell_type": "code",
   "execution_count": 3,
   "outputs": [],
   "source": [
    "def get_classes(data_dir):\n",
    "    all_data = datasets.ImageFolder(data_dir)\n",
    "    return all_data.classes"
   ],
   "metadata": {
    "collapsed": false,
    "ExecuteTime": {
     "end_time": "2024-11-28T09:55:23.660004900Z",
     "start_time": "2024-11-28T09:55:23.648407900Z"
    }
   }
  },
  {
   "cell_type": "code",
   "execution_count": 4,
   "outputs": [],
   "source": [
    "def get_data_loaders(data_dir, batch_size, train = False):\n",
    "    if train:\n",
    "        transform = transforms.Compose([\n",
    "            transforms.RandomHorizontalFlip(p=0.5),\n",
    "            transforms.RandomVerticalFlip(p=0.5),\n",
    "            transforms.RandomApply(torch.nn.ModuleList([transforms.ColorJitter()]), p=0.1),\n",
    "            transforms.Resize(256),\n",
    "            transforms.CenterCrop(224),\n",
    "            transforms.ToTensor(),\n",
    "            transforms.Normalize((0.485, 0.456, 0.406), (0.229, 0.224, 0.225)),\n",
    "#             transforms.RandomErasing(p=0.25, value='random')\n",
    "        ])\n",
    "        all_data = datasets.ImageFolder(data_dir, transform=transform)\n",
    "        train_data_len = int(len(all_data)*0.75)\n",
    "        valid_data_len = int((len(all_data) - train_data_len)/2)\n",
    "        test_data_len = int(len(all_data) - train_data_len - valid_data_len)\n",
    "        train_data, val_data, test_data = random_split(all_data, [train_data_len, valid_data_len, test_data_len])\n",
    "        train_loader = DataLoader(train_data, batch_size=batch_size, shuffle=True, num_workers=4)\n",
    "        return train_loader, train_data_len\n",
    "    else:\n",
    "        transform = transforms.Compose([\n",
    "            transforms.Resize(256),\n",
    "            transforms.CenterCrop(224),\n",
    "            transforms.ToTensor(),\n",
    "            transforms.Normalize((0.485, 0.456, 0.406), (0.229, 0.224, 0.225)),\n",
    "        ])\n",
    "        all_data = datasets.ImageFolder(data_dir, transform=transform)\n",
    "        train_data_len = int(len(all_data)*0.70)\n",
    "        valid_data_len = int((len(all_data) - train_data_len)/2)\n",
    "        test_data_len = int(len(all_data) - train_data_len - valid_data_len)\n",
    "        train_data, val_data, test_data = random_split(all_data, [train_data_len, valid_data_len, test_data_len])\n",
    "        val_loader = DataLoader(val_data, batch_size=batch_size, shuffle=True, num_workers=4)\n",
    "        test_loader = DataLoader(test_data, batch_size=batch_size, shuffle=True, num_workers=4)\n",
    "        return (val_loader, test_loader, valid_data_len, test_data_len)"
   ],
   "metadata": {
    "collapsed": false,
    "ExecuteTime": {
     "end_time": "2024-11-28T09:55:23.671787700Z",
     "start_time": "2024-11-28T09:55:23.657305200Z"
    }
   }
  },
  {
   "cell_type": "code",
   "execution_count": 5,
   "outputs": [],
   "source": [
    "import warnings\n",
    "warnings.filterwarnings(\"ignore\")"
   ],
   "metadata": {
    "collapsed": false,
    "ExecuteTime": {
     "end_time": "2024-11-28T09:55:23.674187800Z",
     "start_time": "2024-11-28T09:55:23.662013200Z"
    }
   }
  },
  {
   "cell_type": "code",
   "execution_count": 6,
   "outputs": [],
   "source": [
    "dataset_path = \"../../CUB_200_2011/images/\"\n",
    "(train_loader, train_data_len) = get_data_loaders(dataset_path, 256, train=True)\n",
    "(val_loader, test_loader, valid_data_len, test_data_len) = get_data_loaders(dataset_path, 64, train=False)\n",
    "classes = get_classes(dataset_path)"
   ],
   "metadata": {
    "collapsed": false,
    "ExecuteTime": {
     "end_time": "2024-11-28T09:55:24.118154300Z",
     "start_time": "2024-11-28T09:55:23.673129400Z"
    }
   }
  },
  {
   "cell_type": "code",
   "execution_count": 7,
   "outputs": [],
   "source": [
    "dataloaders = {\n",
    "    \"train\":train_loader,\n",
    "    \"val\": val_loader\n",
    "}\n",
    "dataset_sizes = {\n",
    "    \"train\":train_data_len,\n",
    "    \"val\": valid_data_len\n",
    "}"
   ],
   "metadata": {
    "collapsed": false,
    "ExecuteTime": {
     "end_time": "2024-11-28T09:55:24.121019900Z",
     "start_time": "2024-11-28T09:55:24.117090600Z"
    }
   }
  },
  {
   "cell_type": "code",
   "execution_count": 8,
   "outputs": [
    {
     "name": "stdout",
     "output_type": "stream",
     "text": [
      "35\n",
      "28\n",
      "28\n",
      "8841 1769 1768\n"
     ]
    }
   ],
   "source": [
    "print(len(train_loader))\n",
    "print(len(val_loader))\n",
    "print(len(test_loader))\n",
    "\n",
    "print(train_data_len, test_data_len, valid_data_len)"
   ],
   "metadata": {
    "collapsed": false,
    "ExecuteTime": {
     "end_time": "2024-11-28T09:55:24.131751300Z",
     "start_time": "2024-11-28T09:55:24.122034700Z"
    }
   }
  },
  {
   "cell_type": "code",
   "execution_count": 9,
   "outputs": [
    {
     "ename": "AttributeError",
     "evalue": "'_MultiProcessingDataLoaderIter' object has no attribute 'next'",
     "output_type": "error",
     "traceback": [
      "\u001B[1;31m---------------------------------------------------------------------------\u001B[0m",
      "\u001B[1;31mAttributeError\u001B[0m                            Traceback (most recent call last)",
      "Cell \u001B[1;32mIn[9], line 2\u001B[0m\n\u001B[0;32m      1\u001B[0m dataiter \u001B[38;5;241m=\u001B[39m \u001B[38;5;28miter\u001B[39m(train_loader)\n\u001B[1;32m----> 2\u001B[0m images, labels \u001B[38;5;241m=\u001B[39m \u001B[43mdataiter\u001B[49m\u001B[38;5;241;43m.\u001B[39;49m\u001B[43mnext\u001B[49m()\n\u001B[0;32m      3\u001B[0m images \u001B[38;5;241m=\u001B[39m images\u001B[38;5;241m.\u001B[39mnumpy() \u001B[38;5;66;03m# convert images to numpy for display\u001B[39;00m\n\u001B[0;32m      5\u001B[0m \u001B[38;5;66;03m# plot the images in the batch, along with the corresponding labels\u001B[39;00m\n",
      "\u001B[1;31mAttributeError\u001B[0m: '_MultiProcessingDataLoaderIter' object has no attribute 'next'"
     ]
    }
   ],
   "source": [
    "dataiter = iter(train_loader)\n",
    "images, labels = dataiter.next()\n",
    "images = images.numpy() # convert images to numpy for display\n",
    "\n",
    "# plot the images in the batch, along with the corresponding labels\n",
    "fig = plt.figure(figsize=(25, 4))\n",
    "for idx in np.arange(20):\n",
    "    ax = fig.add_subplot(2, int(20/2), idx+1, xticks=[], yticks=[])\n",
    "    plt.imshow(np.transpose(images[idx], (1, 2, 0)))\n",
    "    ax.set_title(classes[labels[idx]])"
   ],
   "metadata": {
    "collapsed": false,
    "ExecuteTime": {
     "end_time": "2024-11-28T09:55:35.049797400Z",
     "start_time": "2024-11-28T09:55:24.131751300Z"
    }
   }
  },
  {
   "cell_type": "code",
   "execution_count": 10,
   "outputs": [
    {
     "data": {
      "text/plain": "'cuda'"
     },
     "execution_count": 10,
     "metadata": {},
     "output_type": "execute_result"
    }
   ],
   "source": [
    "device = 'cuda' if torch.cuda.is_available() else 'cpu'\n",
    "device"
   ],
   "metadata": {
    "collapsed": false,
    "ExecuteTime": {
     "end_time": "2024-11-28T09:55:45.868321300Z",
     "start_time": "2024-11-28T09:55:45.821940Z"
    }
   }
  },
  {
   "cell_type": "code",
   "execution_count": 11,
   "outputs": [
    {
     "name": "stderr",
     "output_type": "stream",
     "text": [
      "Downloading: \"https://download.pytorch.org/models/efficientnet_b0_rwightman-3dd342df.pth\" to C:\\Users\\杨大宇/.cache\\torch\\hub\\checkpoints\\efficientnet_b0_rwightman-3dd342df.pth\n",
      "100%|██████████| 20.5M/20.5M [00:01<00:00, 18.6MB/s]\n"
     ]
    }
   ],
   "source": [
    "torch.backends.cudnn.benchmark = True\n",
    "model = torchvision.models.efficientnet_b0(pretrained=True)"
   ],
   "metadata": {
    "collapsed": false,
    "ExecuteTime": {
     "end_time": "2024-11-28T09:55:59.504032300Z",
     "start_time": "2024-11-28T09:55:47.320199600Z"
    }
   }
  },
  {
   "cell_type": "code",
   "execution_count": 12,
   "outputs": [],
   "source": [
    "def count_parameters(model):\n",
    "    return sum(p.numel() for p in model.parameters() if p.requires_grad)"
   ],
   "metadata": {
    "collapsed": false,
    "ExecuteTime": {
     "end_time": "2024-11-28T09:56:02.508471600Z",
     "start_time": "2024-11-28T09:56:02.486933600Z"
    }
   }
  },
  {
   "cell_type": "code",
   "execution_count": 13,
   "outputs": [
    {
     "name": "stdout",
     "output_type": "stream",
     "text": [
      "Sequential(\n",
      "  (0): Linear(in_features=1280, out_features=2048, bias=True)\n",
      "  (1): SiLU()\n",
      "  (2): Dropout(p=0.3, inplace=False)\n",
      "  (3): Linear(in_features=2048, out_features=200, bias=True)\n",
      ")\n"
     ]
    }
   ],
   "source": [
    "for param in model.parameters():\n",
    "    param.requires_grad = False\n",
    "\n",
    "n_inputs = model.classifier[1].in_features\n",
    "\n",
    "model.classifier = nn.Sequential(\n",
    "    nn.Linear(n_inputs,2048),\n",
    "    nn.SiLU(),\n",
    "    nn.Dropout(0.3),\n",
    "    nn.Linear(2048, len(classes))\n",
    ")\n",
    "\n",
    "model = model.to(device)\n",
    "print(model.classifier)"
   ],
   "metadata": {
    "collapsed": false,
    "ExecuteTime": {
     "end_time": "2024-11-28T09:56:03.979510100Z",
     "start_time": "2024-11-28T09:56:03.797931Z"
    }
   }
  },
  {
   "cell_type": "code",
   "execution_count": 14,
   "outputs": [
    {
     "name": "stdout",
     "output_type": "stream",
     "text": [
      "Trainable Params: 3033288\n"
     ]
    }
   ],
   "source": [
    "print(f\"Trainable Params: {count_parameters(model)}\")"
   ],
   "metadata": {
    "collapsed": false,
    "ExecuteTime": {
     "end_time": "2024-11-28T09:56:06.003105400Z",
     "start_time": "2024-11-28T09:56:05.981345500Z"
    }
   }
  },
  {
   "cell_type": "code",
   "execution_count": 15,
   "outputs": [],
   "source": [
    "criterion = nn.CrossEntropyLoss(label_smoothing=0.2)\n",
    "criterion = criterion.to(device)\n",
    "optimizer = optim.AdamW(model.classifier.parameters(), lr=0.001)"
   ],
   "metadata": {
    "collapsed": false,
    "ExecuteTime": {
     "end_time": "2024-11-28T09:56:07.537479Z",
     "start_time": "2024-11-28T09:56:07.504464200Z"
    }
   }
  },
  {
   "cell_type": "code",
   "execution_count": 16,
   "outputs": [],
   "source": [
    "step_scheduler = torch.optim.lr_scheduler.StepLR(optimizer, step_size=4, gamma=0.96)"
   ],
   "metadata": {
    "collapsed": false,
    "ExecuteTime": {
     "end_time": "2024-11-28T09:56:09.217427800Z",
     "start_time": "2024-11-28T09:56:09.191599400Z"
    }
   }
  },
  {
   "cell_type": "code",
   "execution_count": 17,
   "outputs": [],
   "source": [
    "training_history = {'accuracy':[],'loss':[]}\n",
    "validation_history = {'accuracy':[],'loss':[]}"
   ],
   "metadata": {
    "collapsed": false,
    "ExecuteTime": {
     "end_time": "2024-11-28T09:56:10.286625100Z",
     "start_time": "2024-11-28T09:56:10.262089100Z"
    }
   }
  },
  {
   "cell_type": "code",
   "execution_count": 18,
   "outputs": [],
   "source": [
    "def train_model(model, criterion, optimizer, scheduler, num_epochs=25):\n",
    "    since = time.time()\n",
    "\n",
    "    best_model_wts = copy.deepcopy(model.state_dict())\n",
    "    best_acc = 0.0\n",
    "\n",
    "    for epoch in range(num_epochs):\n",
    "        print('Epoch {}/{}'.format(epoch, num_epochs - 1))\n",
    "        print('-' * 10)\n",
    "\n",
    "        # Each epoch has a training and validation phase\n",
    "        for phase in ['train', 'val']:\n",
    "            if phase == 'train':\n",
    "                model.train()  # Set model to training mode\n",
    "            else:\n",
    "                model.eval()   # Set model to evaluate mode\n",
    "\n",
    "            running_loss = 0.0\n",
    "            running_corrects = 0\n",
    "\n",
    "            # Iterate over data.\n",
    "            for inputs, labels in tqdm(dataloaders[phase]):\n",
    "                inputs = inputs.to(device)\n",
    "                labels = labels.to(device)\n",
    "\n",
    "                # zero the parameter gradients\n",
    "                optimizer.zero_grad()\n",
    "\n",
    "                # forward\n",
    "                # track history if only in train\n",
    "                with torch.set_grad_enabled(phase == 'train'):\n",
    "                    outputs = model(inputs)\n",
    "                    _, preds = torch.max(outputs, 1)\n",
    "                    loss = criterion(outputs, labels)\n",
    "\n",
    "                    # backward + optimize only if in training phase\n",
    "                    if phase == 'train':\n",
    "                        loss.backward()\n",
    "                        optimizer.step()\n",
    "\n",
    "                # statistics\n",
    "                running_loss += loss.item() * inputs.size(0)\n",
    "                running_corrects += torch.sum(preds == labels.data)\n",
    "            if phase == 'train':\n",
    "                scheduler.step()\n",
    "\n",
    "            epoch_loss = running_loss / dataset_sizes[phase]\n",
    "            epoch_acc = running_corrects.double() / dataset_sizes[phase]\n",
    "\n",
    "            if phase == 'train':\n",
    "                training_history['accuracy'].append(epoch_acc)\n",
    "                training_history['loss'].append(epoch_loss)\n",
    "            elif phase == 'val':\n",
    "                validation_history['accuracy'].append(epoch_acc)\n",
    "                validation_history['loss'].append(epoch_loss)\n",
    "\n",
    "            print('{} Loss: {:.4f} Acc: {:.4f}'.format(\n",
    "                phase, epoch_loss, epoch_acc))\n",
    "            if phase == 'val' and epoch_acc > best_acc:\n",
    "                best_acc = epoch_acc\n",
    "                best_model_wts = copy.deepcopy(model.state_dict())\n",
    "\n",
    "        print()\n",
    "\n",
    "    time_elapsed = time.time() - since\n",
    "    print('Training complete in {:.0f}m {:.0f}s'.format(\n",
    "        time_elapsed // 60, time_elapsed % 60))\n",
    "    print('Best val Acc: {:4f}'.format(best_acc))\n",
    "\n",
    "    # load best model weights\n",
    "    model.load_state_dict(best_model_wts)\n",
    "    return model"
   ],
   "metadata": {
    "collapsed": false,
    "ExecuteTime": {
     "end_time": "2024-11-28T09:56:14.995566600Z",
     "start_time": "2024-11-28T09:56:14.978705Z"
    }
   }
  },
  {
   "cell_type": "code",
   "execution_count": 19,
   "outputs": [
    {
     "name": "stdout",
     "output_type": "stream",
     "text": [
      "Epoch 0/10\n",
      "----------\n"
     ]
    },
    {
     "name": "stderr",
     "output_type": "stream",
     "text": [
      "100%|██████████| 35/35 [00:27<00:00,  1.27it/s]\n"
     ]
    },
    {
     "name": "stdout",
     "output_type": "stream",
     "text": [
      "train Loss: 4.5631 Acc: 0.1860\n"
     ]
    },
    {
     "name": "stderr",
     "output_type": "stream",
     "text": [
      "100%|██████████| 28/28 [00:14<00:00,  1.93it/s]\n"
     ]
    },
    {
     "name": "stdout",
     "output_type": "stream",
     "text": [
      "val Loss: 3.4009 Acc: 0.5011\n",
      "\n",
      "Epoch 1/10\n",
      "----------\n"
     ]
    },
    {
     "name": "stderr",
     "output_type": "stream",
     "text": [
      "100%|██████████| 35/35 [00:23<00:00,  1.48it/s]\n"
     ]
    },
    {
     "name": "stdout",
     "output_type": "stream",
     "text": [
      "train Loss: 3.3423 Acc: 0.4992\n"
     ]
    },
    {
     "name": "stderr",
     "output_type": "stream",
     "text": [
      "100%|██████████| 28/28 [00:13<00:00,  2.06it/s]\n"
     ]
    },
    {
     "name": "stdout",
     "output_type": "stream",
     "text": [
      "val Loss: 2.8970 Acc: 0.6516\n",
      "\n",
      "Epoch 2/10\n",
      "----------\n"
     ]
    },
    {
     "name": "stderr",
     "output_type": "stream",
     "text": [
      "100%|██████████| 35/35 [00:23<00:00,  1.48it/s]\n"
     ]
    },
    {
     "name": "stdout",
     "output_type": "stream",
     "text": [
      "train Loss: 2.9916 Acc: 0.6203\n"
     ]
    },
    {
     "name": "stderr",
     "output_type": "stream",
     "text": [
      "100%|██████████| 28/28 [00:13<00:00,  2.04it/s]\n"
     ]
    },
    {
     "name": "stdout",
     "output_type": "stream",
     "text": [
      "val Loss: 2.6845 Acc: 0.7229\n",
      "\n",
      "Epoch 3/10\n",
      "----------\n"
     ]
    },
    {
     "name": "stderr",
     "output_type": "stream",
     "text": [
      "100%|██████████| 35/35 [00:23<00:00,  1.47it/s]\n"
     ]
    },
    {
     "name": "stdout",
     "output_type": "stream",
     "text": [
      "train Loss: 2.7864 Acc: 0.6973\n"
     ]
    },
    {
     "name": "stderr",
     "output_type": "stream",
     "text": [
      "100%|██████████| 28/28 [00:13<00:00,  2.05it/s]\n"
     ]
    },
    {
     "name": "stdout",
     "output_type": "stream",
     "text": [
      "val Loss: 2.5481 Acc: 0.7834\n",
      "\n",
      "Epoch 4/10\n",
      "----------\n"
     ]
    },
    {
     "name": "stderr",
     "output_type": "stream",
     "text": [
      "100%|██████████| 35/35 [00:23<00:00,  1.49it/s]\n"
     ]
    },
    {
     "name": "stdout",
     "output_type": "stream",
     "text": [
      "train Loss: 2.6559 Acc: 0.7413\n"
     ]
    },
    {
     "name": "stderr",
     "output_type": "stream",
     "text": [
      "100%|██████████| 28/28 [00:13<00:00,  2.08it/s]\n"
     ]
    },
    {
     "name": "stdout",
     "output_type": "stream",
     "text": [
      "val Loss: 2.4764 Acc: 0.7981\n",
      "\n",
      "Epoch 5/10\n",
      "----------\n"
     ]
    },
    {
     "name": "stderr",
     "output_type": "stream",
     "text": [
      "100%|██████████| 35/35 [00:23<00:00,  1.49it/s]\n"
     ]
    },
    {
     "name": "stdout",
     "output_type": "stream",
     "text": [
      "train Loss: 2.5452 Acc: 0.7878\n"
     ]
    },
    {
     "name": "stderr",
     "output_type": "stream",
     "text": [
      "100%|██████████| 28/28 [00:13<00:00,  2.12it/s]\n"
     ]
    },
    {
     "name": "stdout",
     "output_type": "stream",
     "text": [
      "val Loss: 2.4088 Acc: 0.8247\n",
      "\n",
      "Epoch 6/10\n",
      "----------\n"
     ]
    },
    {
     "name": "stderr",
     "output_type": "stream",
     "text": [
      "100%|██████████| 35/35 [00:23<00:00,  1.48it/s]\n"
     ]
    },
    {
     "name": "stdout",
     "output_type": "stream",
     "text": [
      "train Loss: 2.4592 Acc: 0.8130\n"
     ]
    },
    {
     "name": "stderr",
     "output_type": "stream",
     "text": [
      "100%|██████████| 28/28 [00:13<00:00,  2.15it/s]\n"
     ]
    },
    {
     "name": "stdout",
     "output_type": "stream",
     "text": [
      "val Loss: 2.3576 Acc: 0.8252\n",
      "\n",
      "Epoch 7/10\n",
      "----------\n"
     ]
    },
    {
     "name": "stderr",
     "output_type": "stream",
     "text": [
      "100%|██████████| 35/35 [00:24<00:00,  1.46it/s]\n"
     ]
    },
    {
     "name": "stdout",
     "output_type": "stream",
     "text": [
      "train Loss: 2.3812 Acc: 0.8528\n"
     ]
    },
    {
     "name": "stderr",
     "output_type": "stream",
     "text": [
      "100%|██████████| 28/28 [00:13<00:00,  2.12it/s]\n"
     ]
    },
    {
     "name": "stdout",
     "output_type": "stream",
     "text": [
      "val Loss: 2.3086 Acc: 0.8569\n",
      "\n",
      "Epoch 8/10\n",
      "----------\n"
     ]
    },
    {
     "name": "stderr",
     "output_type": "stream",
     "text": [
      "100%|██████████| 35/35 [00:23<00:00,  1.49it/s]\n"
     ]
    },
    {
     "name": "stdout",
     "output_type": "stream",
     "text": [
      "train Loss: 2.3172 Acc: 0.8725\n"
     ]
    },
    {
     "name": "stderr",
     "output_type": "stream",
     "text": [
      "100%|██████████| 28/28 [00:13<00:00,  2.07it/s]\n"
     ]
    },
    {
     "name": "stdout",
     "output_type": "stream",
     "text": [
      "val Loss: 2.2656 Acc: 0.8597\n",
      "\n",
      "Epoch 9/10\n",
      "----------\n"
     ]
    },
    {
     "name": "stderr",
     "output_type": "stream",
     "text": [
      "100%|██████████| 35/35 [00:23<00:00,  1.49it/s]\n"
     ]
    },
    {
     "name": "stdout",
     "output_type": "stream",
     "text": [
      "train Loss: 2.2499 Acc: 0.8947\n"
     ]
    },
    {
     "name": "stderr",
     "output_type": "stream",
     "text": [
      "100%|██████████| 28/28 [00:13<00:00,  2.12it/s]\n"
     ]
    },
    {
     "name": "stdout",
     "output_type": "stream",
     "text": [
      "val Loss: 2.2374 Acc: 0.8660\n",
      "\n",
      "Epoch 10/10\n",
      "----------\n"
     ]
    },
    {
     "name": "stderr",
     "output_type": "stream",
     "text": [
      "100%|██████████| 35/35 [00:23<00:00,  1.47it/s]\n"
     ]
    },
    {
     "name": "stdout",
     "output_type": "stream",
     "text": [
      "train Loss: 2.2087 Acc: 0.9118\n"
     ]
    },
    {
     "name": "stderr",
     "output_type": "stream",
     "text": [
      "100%|██████████| 28/28 [00:13<00:00,  2.03it/s]"
     ]
    },
    {
     "name": "stdout",
     "output_type": "stream",
     "text": [
      "val Loss: 2.2051 Acc: 0.8790\n",
      "\n",
      "Training complete in 6m 53s\n",
      "Best val Acc: 0.878959\n"
     ]
    },
    {
     "name": "stderr",
     "output_type": "stream",
     "text": [
      "\n"
     ]
    }
   ],
   "source": [
    "model_ft = train_model(model, criterion, optimizer, step_scheduler,\n",
    "                       num_epochs=11)"
   ],
   "metadata": {
    "collapsed": false,
    "ExecuteTime": {
     "end_time": "2024-11-28T10:03:09.527047900Z",
     "start_time": "2024-11-28T09:56:16.033023400Z"
    }
   }
  },
  {
   "cell_type": "code",
   "execution_count": 20,
   "outputs": [],
   "source": [
    "torch.save(model.state_dict(), \"cnn.pth\")"
   ],
   "metadata": {
    "collapsed": false,
    "ExecuteTime": {
     "end_time": "2024-11-28T12:20:47.245262900Z",
     "start_time": "2024-11-28T12:20:47.163656700Z"
    }
   }
  },
  {
   "cell_type": "code",
   "execution_count": 21,
   "outputs": [],
   "source": [
    "torch.cuda.empty_cache()"
   ],
   "metadata": {
    "collapsed": false,
    "ExecuteTime": {
     "end_time": "2024-11-28T12:20:48.718589200Z",
     "start_time": "2024-11-28T12:20:48.681057500Z"
    }
   }
  },
  {
   "cell_type": "code",
   "execution_count": 22,
   "outputs": [
    {
     "name": "stderr",
     "output_type": "stream",
     "text": [
      "100%|██████████| 28/28 [00:14<00:00,  1.89it/s]"
     ]
    },
    {
     "name": "stdout",
     "output_type": "stream",
     "text": [
      "Test Loss: 89.143082\n",
      "\n",
      "Test Accuracy of 001.Black_footed_Albatross: 100% ( 8/ 8)\n",
      "Test Accuracy of 002.Laysan_Albatross: 92% (13/14)\n",
      "Test Accuracy of 003.Sooty_Albatross: 83% ( 5/ 6)\n",
      "Test Accuracy of 004.Groove_billed_Ani: 100% ( 8/ 8)\n",
      "Test Accuracy of 005.Crested_Auklet: 100% ( 4/ 4)\n",
      "Test Accuracy of 006.Least_Auklet: 100% ( 7/ 7)\n",
      "Test Accuracy of 007.Parakeet_Auklet: 100% ( 8/ 8)\n",
      "Test Accuracy of 008.Rhinoceros_Auklet: 75% ( 6/ 8)\n",
      "Test Accuracy of 009.Brewer_Blackbird: 100% ( 8/ 8)\n",
      "Test Accuracy of 010.Red_winged_Blackbird: 100% ( 9/ 9)\n",
      "Test Accuracy of 011.Rusty_Blackbird: 100% ( 2/ 2)\n",
      "Test Accuracy of 012.Yellow_headed_Blackbird: 90% ( 9/10)\n",
      "Test Accuracy of 013.Bobolink: 100% (12/12)\n",
      "Test Accuracy of 014.Indigo_Bunting: 100% ( 8/ 8)\n",
      "Test Accuracy of 015.Lazuli_Bunting: 92% (12/13)\n",
      "Test Accuracy of 016.Painted_Bunting: 87% ( 7/ 8)\n",
      "Test Accuracy of 017.Cardinal: 50% ( 2/ 4)\n",
      "Test Accuracy of 018.Spotted_Catbird: 100% ( 5/ 5)\n",
      "Test Accuracy of 019.Gray_Catbird: 100% ( 8/ 8)\n",
      "Test Accuracy of 020.Yellow_breasted_Chat: 88% ( 8/ 9)\n",
      "Test Accuracy of 021.Eastern_Towhee: 90% (10/11)\n",
      "Test Accuracy of 022.Chuck_will_Widow: 66% ( 4/ 6)\n",
      "Test Accuracy of 023.Brandt_Cormorant: 84% (11/13)\n",
      "Test Accuracy of 024.Red_faced_Cormorant: 100% ( 4/ 4)\n",
      "Test Accuracy of 025.Pelagic_Cormorant: 92% (12/13)\n",
      "Test Accuracy of 026.Bronzed_Cowbird: 90% ( 9/10)\n",
      "Test Accuracy of 027.Shiny_Cowbird: 81% ( 9/11)\n",
      "Test Accuracy of 028.Brown_Creeper: 100% ( 8/ 8)\n",
      "Test Accuracy of 029.American_Crow: 80% ( 4/ 5)\n",
      "Test Accuracy of 030.Fish_Crow: 63% ( 7/11)\n",
      "Test Accuracy of 031.Black_billed_Cuckoo: 55% ( 5/ 9)\n",
      "Test Accuracy of 032.Mangrove_Cuckoo: 100% ( 6/ 6)\n",
      "Test Accuracy of 033.Yellow_billed_Cuckoo: 100% ( 5/ 5)\n",
      "Test Accuracy of 034.Gray_crowned_Rosy_Finch: 100% ( 9/ 9)\n",
      "Test Accuracy of 035.Purple_Finch: 100% (11/11)\n",
      "Test Accuracy of 036.Northern_Flicker: 90% ( 9/10)\n",
      "Test Accuracy of 037.Acadian_Flycatcher: 100% ( 5/ 5)\n",
      "Test Accuracy of 038.Great_Crested_Flycatcher: 71% ( 5/ 7)\n",
      "Test Accuracy of 039.Least_Flycatcher: 83% (10/12)\n",
      "Test Accuracy of 040.Olive_sided_Flycatcher: 85% ( 6/ 7)\n",
      "Test Accuracy of 041.Scissor_tailed_Flycatcher: 100% ( 6/ 6)\n",
      "Test Accuracy of 042.Vermilion_Flycatcher: 100% (14/14)\n",
      "Test Accuracy of 043.Yellow_bellied_Flycatcher: 90% (10/11)\n",
      "Test Accuracy of 044.Frigatebird: 100% (13/13)\n",
      "Test Accuracy of 045.Northern_Fulmar: 85% ( 6/ 7)\n",
      "Test Accuracy of 046.Gadwall: 100% (14/14)\n",
      "Test Accuracy of 047.American_Goldfinch: 100% (12/12)\n",
      "Test Accuracy of 048.European_Goldfinch: 100% ( 9/ 9)\n",
      "Test Accuracy of 049.Boat_tailed_Grackle: 75% ( 3/ 4)\n",
      "Test Accuracy of 050.Eared_Grebe: 100% ( 8/ 8)\n",
      "Test Accuracy of 051.Horned_Grebe: 88% ( 8/ 9)\n",
      "Test Accuracy of 052.Pied_billed_Grebe: 100% (10/10)\n",
      "Test Accuracy of 053.Western_Grebe: 100% ( 5/ 5)\n",
      "Test Accuracy of 054.Blue_Grosbeak: 90% (10/11)\n",
      "Test Accuracy of 055.Evening_Grosbeak: 80% ( 4/ 5)\n",
      "Test Accuracy of 056.Pine_Grosbeak: 85% ( 6/ 7)\n",
      "Test Accuracy of 057.Rose_breasted_Grosbeak: 91% (11/12)\n",
      "Test Accuracy of 058.Pigeon_Guillemot: 100% ( 5/ 5)\n",
      "Test Accuracy of 059.California_Gull: 54% ( 6/11)\n",
      "Test Accuracy of 060.Glaucous_winged_Gull: 91% (11/12)\n",
      "Test Accuracy of 061.Heermann_Gull: 87% ( 7/ 8)\n",
      "Test Accuracy of 062.Herring_Gull: 66% ( 4/ 6)\n",
      "Test Accuracy of 063.Ivory_Gull: 83% ( 5/ 6)\n",
      "Test Accuracy of 064.Ring_billed_Gull: 88% ( 8/ 9)\n",
      "Test Accuracy of 065.Slaty_backed_Gull: 60% ( 3/ 5)\n",
      "Test Accuracy of 066.Western_Gull: 77% ( 7/ 9)\n",
      "Test Accuracy of 067.Anna_Hummingbird: 85% (12/14)\n",
      "Test Accuracy of 068.Ruby_throated_Hummingbird: 92% (12/13)\n",
      "Test Accuracy of 069.Rufous_Hummingbird: 100% ( 7/ 7)\n",
      "Test Accuracy of 070.Green_Violetear: 100% ( 8/ 8)\n",
      "Test Accuracy of 071.Long_tailed_Jaeger: 85% ( 6/ 7)\n",
      "Test Accuracy of 072.Pomarine_Jaeger: 100% ( 6/ 6)\n",
      "Test Accuracy of 073.Blue_Jay: 100% ( 6/ 6)\n",
      "Test Accuracy of 074.Florida_Jay: 90% (10/11)\n",
      "Test Accuracy of 075.Green_Jay: 87% ( 7/ 8)\n",
      "Test Accuracy of 076.Dark_eyed_Junco: 90% ( 9/10)\n",
      "Test Accuracy of 077.Tropical_Kingbird: 87% ( 7/ 8)\n",
      "Test Accuracy of 078.Gray_Kingbird: 81% ( 9/11)\n",
      "Test Accuracy of 079.Belted_Kingfisher: 83% ( 5/ 6)\n",
      "Test Accuracy of 080.Green_Kingfisher: 100% ( 5/ 5)\n",
      "Test Accuracy of 081.Pied_Kingfisher: 85% ( 6/ 7)\n",
      "Test Accuracy of 082.Ringed_Kingfisher: 100% ( 9/ 9)\n",
      "Test Accuracy of 083.White_breasted_Kingfisher: 90% ( 9/10)\n",
      "Test Accuracy of 084.Red_legged_Kittiwake: 100% (12/12)\n",
      "Test Accuracy of 085.Horned_Lark: 100% (10/10)\n",
      "Test Accuracy of 086.Pacific_Loon: 92% (12/13)\n",
      "Test Accuracy of 087.Mallard: 92% (12/13)\n",
      "Test Accuracy of 088.Western_Meadowlark: 100% ( 9/ 9)\n",
      "Test Accuracy of 089.Hooded_Merganser: 100% ( 5/ 5)\n",
      "Test Accuracy of 090.Red_breasted_Merganser: 100% ( 4/ 4)\n",
      "Test Accuracy of 091.Mockingbird: 88% ( 8/ 9)\n",
      "Test Accuracy of 092.Nighthawk: 91% (11/12)\n",
      "Test Accuracy of 093.Clark_Nutcracker: 88% ( 8/ 9)\n",
      "Test Accuracy of 094.White_breasted_Nuthatch: 87% ( 7/ 8)\n",
      "Test Accuracy of 095.Baltimore_Oriole: 83% (10/12)\n",
      "Test Accuracy of 096.Hooded_Oriole: 87% ( 7/ 8)\n",
      "Test Accuracy of 097.Orchard_Oriole: 66% ( 6/ 9)\n",
      "Test Accuracy of 098.Scott_Oriole: 100% (11/11)\n",
      "Test Accuracy of 099.Ovenbird: 85% ( 6/ 7)\n",
      "Test Accuracy of 100.Brown_Pelican: 100% ( 6/ 6)\n",
      "Test Accuracy of 101.White_Pelican: 100% ( 4/ 4)\n",
      "Test Accuracy of 102.Western_Wood_Pewee: 81% ( 9/11)\n",
      "Test Accuracy of 103.Sayornis: 75% ( 6/ 8)\n",
      "Test Accuracy of 104.American_Pipit: 81% ( 9/11)\n",
      "Test Accuracy of 105.Whip_poor_Will: 85% ( 6/ 7)\n",
      "Test Accuracy of 106.Horned_Puffin: 87% ( 7/ 8)\n",
      "Test Accuracy of 107.Common_Raven: 70% ( 7/10)\n",
      "Test Accuracy of 108.White_necked_Raven: 100% ( 7/ 7)\n",
      "Test Accuracy of 109.American_Redstart: 85% ( 6/ 7)\n",
      "Test Accuracy of 110.Geococcyx: 100% ( 4/ 4)\n",
      "Test Accuracy of 111.Loggerhead_Shrike: 100% ( 4/ 4)\n",
      "Test Accuracy of 112.Great_Grey_Shrike: 80% ( 8/10)\n",
      "Test Accuracy of 113.Baird_Sparrow: 50% ( 1/ 2)\n",
      "Test Accuracy of 114.Black_throated_Sparrow: 88% ( 8/ 9)\n",
      "Test Accuracy of 115.Brewer_Sparrow: 83% ( 5/ 6)\n",
      "Test Accuracy of 116.Chipping_Sparrow: 100% ( 8/ 8)\n",
      "Test Accuracy of 117.Clay_colored_Sparrow: 83% ( 5/ 6)\n",
      "Test Accuracy of 118.House_Sparrow: 77% ( 7/ 9)\n",
      "Test Accuracy of 119.Field_Sparrow: 100% ( 5/ 5)\n",
      "Test Accuracy of 120.Fox_Sparrow: 91% (11/12)\n",
      "Test Accuracy of 121.Grasshopper_Sparrow: 81% ( 9/11)\n",
      "Test Accuracy of 122.Harris_Sparrow: 85% ( 6/ 7)\n",
      "Test Accuracy of 123.Henslow_Sparrow: 77% ( 7/ 9)\n",
      "Test Accuracy of 124.Le_Conte_Sparrow: 100% ( 6/ 6)\n",
      "Test Accuracy of 125.Lincoln_Sparrow: 100% ( 7/ 7)\n",
      "Test Accuracy of 126.Nelson_Sharp_tailed_Sparrow: 75% ( 3/ 4)\n",
      "Test Accuracy of 127.Savannah_Sparrow: 66% ( 4/ 6)\n",
      "Test Accuracy of 128.Seaside_Sparrow: 100% ( 5/ 5)\n",
      "Test Accuracy of 129.Song_Sparrow: 100% ( 8/ 8)\n",
      "Test Accuracy of 130.Tree_Sparrow: 76% (10/13)\n",
      "Test Accuracy of 131.Vesper_Sparrow: 88% ( 8/ 9)\n",
      "Test Accuracy of 132.White_crowned_Sparrow: 83% (10/12)\n",
      "Test Accuracy of 133.White_throated_Sparrow: 84% (11/13)\n",
      "Test Accuracy of 134.Cape_Glossy_Starling: 100% (13/13)\n",
      "Test Accuracy of 135.Bank_Swallow: 80% ( 4/ 5)\n",
      "Test Accuracy of 136.Barn_Swallow: 90% (10/11)\n",
      "Test Accuracy of 137.Cliff_Swallow: 100% ( 6/ 6)\n",
      "Test Accuracy of 138.Tree_Swallow: 88% ( 8/ 9)\n",
      "Test Accuracy of 139.Scarlet_Tanager: 100% (10/10)\n",
      "Test Accuracy of 140.Summer_Tanager: 100% ( 8/ 8)\n",
      "Test Accuracy of 141.Artic_Tern: 87% ( 7/ 8)\n",
      "Test Accuracy of 142.Black_Tern: 83% ( 5/ 6)\n",
      "Test Accuracy of 143.Caspian_Tern: 71% ( 5/ 7)\n",
      "Test Accuracy of 144.Common_Tern: 71% ( 5/ 7)\n",
      "Test Accuracy of 145.Elegant_Tern: 80% ( 8/10)\n",
      "Test Accuracy of 146.Forsters_Tern: 86% (13/15)\n",
      "Test Accuracy of 147.Least_Tern: 90% (10/11)\n",
      "Test Accuracy of 148.Green_tailed_Towhee: 100% (10/10)\n",
      "Test Accuracy of 149.Brown_Thrasher: 100% ( 8/ 8)\n",
      "Test Accuracy of 150.Sage_Thrasher: 100% (12/12)\n",
      "Test Accuracy of 151.Black_capped_Vireo: 100% ( 6/ 6)\n",
      "Test Accuracy of 152.Blue_headed_Vireo: 93% (15/16)\n",
      "Test Accuracy of 153.Philadelphia_Vireo: 85% ( 6/ 7)\n",
      "Test Accuracy of 154.Red_eyed_Vireo: 87% ( 7/ 8)\n",
      "Test Accuracy of 155.Warbling_Vireo: 100% ( 4/ 4)\n",
      "Test Accuracy of 156.White_eyed_Vireo: 90% (10/11)\n",
      "Test Accuracy of 157.Yellow_throated_Vireo: 100% ( 5/ 5)\n",
      "Test Accuracy of 158.Bay_breasted_Warbler: 90% (10/11)\n",
      "Test Accuracy of 159.Black_and_white_Warbler: 100% ( 9/ 9)\n",
      "Test Accuracy of 160.Black_throated_Blue_Warbler: 80% ( 8/10)\n",
      "Test Accuracy of 161.Blue_winged_Warbler: 87% ( 7/ 8)\n",
      "Test Accuracy of 162.Canada_Warbler: 81% ( 9/11)\n",
      "Test Accuracy of 163.Cape_May_Warbler: 76% (10/13)\n",
      "Test Accuracy of 164.Cerulean_Warbler: 83% ( 5/ 6)\n",
      "Test Accuracy of 165.Chestnut_sided_Warbler: 90% ( 9/10)\n",
      "Test Accuracy of 166.Golden_winged_Warbler: 88% ( 8/ 9)\n",
      "Test Accuracy of 167.Hooded_Warbler: 77% ( 7/ 9)\n",
      "Test Accuracy of 168.Kentucky_Warbler: 100% ( 2/ 2)\n",
      "Test Accuracy of 169.Magnolia_Warbler: 92% (12/13)\n",
      "Test Accuracy of 170.Mourning_Warbler: 100% (12/12)\n",
      "Test Accuracy of 171.Myrtle_Warbler: 80% ( 8/10)\n",
      "Test Accuracy of 172.Nashville_Warbler: 85% ( 6/ 7)\n",
      "Test Accuracy of 173.Orange_crowned_Warbler: 85% ( 6/ 7)\n",
      "Test Accuracy of 174.Palm_Warbler: 100% ( 5/ 5)\n",
      "Test Accuracy of 175.Pine_Warbler: 100% ( 8/ 8)\n",
      "Test Accuracy of 176.Prairie_Warbler: 90% (10/11)\n",
      "Test Accuracy of 177.Prothonotary_Warbler: 100% (12/12)\n",
      "Test Accuracy of 178.Swainson_Warbler: 87% ( 7/ 8)\n",
      "Test Accuracy of 179.Tennessee_Warbler: 75% ( 6/ 8)\n",
      "Test Accuracy of 180.Wilson_Warbler: 88% ( 8/ 9)\n",
      "Test Accuracy of 181.Worm_eating_Warbler: 100% ( 8/ 8)\n",
      "Test Accuracy of 182.Yellow_Warbler: 100% ( 9/ 9)\n",
      "Test Accuracy of 183.Northern_Waterthrush: 100% (10/10)\n",
      "Test Accuracy of 184.Louisiana_Waterthrush: 100% (11/11)\n",
      "Test Accuracy of 185.Bohemian_Waxwing: 87% ( 7/ 8)\n",
      "Test Accuracy of 186.Cedar_Waxwing: 85% ( 6/ 7)\n",
      "Test Accuracy of 187.American_Three_toed_Woodpecker: 71% ( 5/ 7)\n",
      "Test Accuracy of 188.Pileated_Woodpecker: 100% (15/15)\n",
      "Test Accuracy of 189.Red_bellied_Woodpecker: 100% (11/11)\n",
      "Test Accuracy of 190.Red_cockaded_Woodpecker: 100% (11/11)\n",
      "Test Accuracy of 191.Red_headed_Woodpecker: 90% (10/11)\n",
      "Test Accuracy of 192.Downy_Woodpecker: 100% (11/11)\n",
      "Test Accuracy of 193.Bewick_Wren: 100% ( 7/ 7)\n",
      "Test Accuracy of 194.Cactus_Wren: 83% ( 5/ 6)\n",
      "Test Accuracy of 195.Carolina_Wren: 88% ( 8/ 9)\n",
      "Test Accuracy of 196.House_Wren: 71% ( 5/ 7)\n",
      "Test Accuracy of 197.Marsh_Wren: 76% (10/13)\n",
      "Test Accuracy of 198.Rock_Wren: 100% ( 6/ 6)\n",
      "Test Accuracy of 199.Winter_Wren: 91% (11/12)\n",
      "Test Accuracy of 200.Common_Yellowthroat: 100% ( 7/ 7)\n",
      "\n",
      "Test Accuracy (Overall): 89% (1553/1728)\n"
     ]
    },
    {
     "name": "stderr",
     "output_type": "stream",
     "text": [
      "\n"
     ]
    }
   ],
   "source": [
    "test_loss = 0.0\n",
    "class_correct = list(0. for i in range(len(classes)))\n",
    "class_total = list(0. for i in range(len(classes)))\n",
    "\n",
    "model_ft.eval()\n",
    "\n",
    "for data, target in tqdm(test_loader):\n",
    "    if torch.cuda.is_available():\n",
    "        data, target = data.cuda(), target.cuda()\n",
    "    with torch.no_grad():\n",
    "        output = model_ft(data)\n",
    "        loss = criterion(output, target)\n",
    "    test_loss += loss.item()*data.size(0)\n",
    "    _, pred = torch.max(output, 1)\n",
    "    correct_tensor = pred.eq(target.data.view_as(pred))\n",
    "    correct = np.squeeze(correct_tensor.numpy()) if not torch.cuda.is_available() else np.squeeze(correct_tensor.cpu().numpy())\n",
    "    if len(target) == 64:\n",
    "        for i in range(64):\n",
    "            label = target.data[i]\n",
    "            class_correct[label] += correct[i].item()\n",
    "            class_total[label] += 1\n",
    "            test_loss = test_loss/len(test_loader.dataset)\n",
    "print('Test Loss: {:.6f}\\n'.format(test_loss))\n",
    "\n",
    "for i in range(len(classes)):\n",
    "    if class_total[i] > 0:\n",
    "        print('Test Accuracy of %5s: %2d%% (%2d/%2d)' % (\n",
    "            classes[i], 100 * class_correct[i] / class_total[i],\n",
    "            np.sum(class_correct[i]), np.sum(class_total[i])))\n",
    "    else:\n",
    "        print('Test Accuracy of %5s: N/A (no training examples)' % (classes[i]))\n",
    "\n",
    "print('\\nTest Accuracy (Overall): %2d%% (%2d/%2d)' % (\n",
    "    100. * np.sum(class_correct) / np.sum(class_total),\n",
    "    np.sum(class_correct), np.sum(class_total)))"
   ],
   "metadata": {
    "collapsed": false,
    "ExecuteTime": {
     "end_time": "2024-11-28T12:21:29.700638900Z",
     "start_time": "2024-11-28T12:21:14.844005300Z"
    }
   }
  },
  {
   "cell_type": "code",
   "execution_count": 23,
   "outputs": [],
   "source": [
    "from PIL import Image\n",
    "from io import BytesIO\n",
    "import requests\n",
    "\n",
    "\n",
    "def apply_test_transforms(inp):\n",
    "    out = transforms.functional.resize(inp, [224,224])\n",
    "    out = transforms.functional.to_tensor(out)\n",
    "    out = transforms.functional.normalize(out, [0.485, 0.456, 0.406], [0.229, 0.224, 0.225])\n",
    "    return out"
   ],
   "metadata": {
    "collapsed": false,
    "ExecuteTime": {
     "end_time": "2024-11-28T12:23:23.199746700Z",
     "start_time": "2024-11-28T12:23:23.175448Z"
    }
   }
  },
  {
   "cell_type": "code",
   "execution_count": 24,
   "outputs": [],
   "source": [
    "def predict(model, filepath, show_img=False, url=False):\n",
    "    if url:\n",
    "        response = requests.get(filepath)\n",
    "        im = Image.open(BytesIO(response.content))\n",
    "    else:\n",
    "         im = Image.open(filepath)\n",
    "    if show_img:\n",
    "        plt.imshow(im)\n",
    "    im_as_tensor = apply_test_transforms(im)\n",
    "    minibatch = torch.stack([im_as_tensor])\n",
    "    if torch.cuda.is_available():\n",
    "        minibatch = minibatch.cuda()\n",
    "    pred = model(minibatch)\n",
    "    _, classnum = torch.max(pred, 1)\n",
    "    print(classnum)\n",
    "    return classes[classnum]"
   ],
   "metadata": {
    "collapsed": false,
    "ExecuteTime": {
     "end_time": "2024-11-28T12:23:24.644291700Z",
     "start_time": "2024-11-28T12:23:24.621347100Z"
    }
   }
  },
  {
   "cell_type": "code",
   "execution_count": 25,
   "outputs": [
    {
     "ename": "UnidentifiedImageError",
     "evalue": "cannot identify image file <_io.BytesIO object at 0x0000018D1978D850>",
     "output_type": "error",
     "traceback": [
      "\u001B[1;31m---------------------------------------------------------------------------\u001B[0m",
      "\u001B[1;31mUnidentifiedImageError\u001B[0m                    Traceback (most recent call last)",
      "Cell \u001B[1;32mIn[25], line 6\u001B[0m\n\u001B[0;32m      3\u001B[0m     string \u001B[38;5;241m=\u001B[39m string\u001B[38;5;241m.\u001B[39mreplace(\u001B[38;5;124m\"\u001B[39m\u001B[38;5;124m-\u001B[39m\u001B[38;5;124m\"\u001B[39m, \u001B[38;5;124m\"\u001B[39m\u001B[38;5;124m \u001B[39m\u001B[38;5;124m\"\u001B[39m)\n\u001B[0;32m      4\u001B[0m     \u001B[38;5;28;01mreturn\u001B[39;00m string\n\u001B[1;32m----> 6\u001B[0m formatText(\u001B[43mpredict\u001B[49m\u001B[43m(\u001B[49m\u001B[43mmodel_ft\u001B[49m\u001B[43m,\u001B[49m\u001B[43m \u001B[49m\u001B[38;5;124;43m\"\u001B[39;49m\u001B[38;5;124;43mhttps://www.audubon.org/sites/default/files/styles/hero_cover_bird_page/public/web_h_andy-morffew_flickr-creative-common-by-2.0_altamiraoriole_flickr-3-adult.jpg?itok=ad9rnLPN\u001B[39;49m\u001B[38;5;124;43m\"\u001B[39;49m\u001B[43m,\u001B[49m\u001B[43m \u001B[49m\u001B[43mshow_img\u001B[49m\u001B[38;5;241;43m=\u001B[39;49m\u001B[38;5;28;43;01mTrue\u001B[39;49;00m\u001B[43m,\u001B[49m\u001B[43m \u001B[49m\u001B[43murl\u001B[49m\u001B[38;5;241;43m=\u001B[39;49m\u001B[38;5;28;43;01mTrue\u001B[39;49;00m\u001B[43m)\u001B[49m)\n",
      "Cell \u001B[1;32mIn[24], line 4\u001B[0m, in \u001B[0;36mpredict\u001B[1;34m(model, filepath, show_img, url)\u001B[0m\n\u001B[0;32m      2\u001B[0m \u001B[38;5;28;01mif\u001B[39;00m url:\n\u001B[0;32m      3\u001B[0m     response \u001B[38;5;241m=\u001B[39m requests\u001B[38;5;241m.\u001B[39mget(filepath)\n\u001B[1;32m----> 4\u001B[0m     im \u001B[38;5;241m=\u001B[39m \u001B[43mImage\u001B[49m\u001B[38;5;241;43m.\u001B[39;49m\u001B[43mopen\u001B[49m\u001B[43m(\u001B[49m\u001B[43mBytesIO\u001B[49m\u001B[43m(\u001B[49m\u001B[43mresponse\u001B[49m\u001B[38;5;241;43m.\u001B[39;49m\u001B[43mcontent\u001B[49m\u001B[43m)\u001B[49m\u001B[43m)\u001B[49m\n\u001B[0;32m      5\u001B[0m \u001B[38;5;28;01melse\u001B[39;00m:\n\u001B[0;32m      6\u001B[0m      im \u001B[38;5;241m=\u001B[39m Image\u001B[38;5;241m.\u001B[39mopen(filepath)\n",
      "File \u001B[1;32m~\\AppData\\Local\\Programs\\Python\\Python311\\Lib\\site-packages\\PIL\\Image.py:3498\u001B[0m, in \u001B[0;36mopen\u001B[1;34m(fp, mode, formats)\u001B[0m\n\u001B[0;32m   3496\u001B[0m     warnings\u001B[38;5;241m.\u001B[39mwarn(message)\n\u001B[0;32m   3497\u001B[0m msg \u001B[38;5;241m=\u001B[39m \u001B[38;5;124m\"\u001B[39m\u001B[38;5;124mcannot identify image file \u001B[39m\u001B[38;5;132;01m%r\u001B[39;00m\u001B[38;5;124m\"\u001B[39m \u001B[38;5;241m%\u001B[39m (filename \u001B[38;5;28;01mif\u001B[39;00m filename \u001B[38;5;28;01melse\u001B[39;00m fp)\n\u001B[1;32m-> 3498\u001B[0m \u001B[38;5;28;01mraise\u001B[39;00m UnidentifiedImageError(msg)\n",
      "\u001B[1;31mUnidentifiedImageError\u001B[0m: cannot identify image file <_io.BytesIO object at 0x0000018D1978D850>"
     ]
    }
   ],
   "source": [
    "def formatText(string):\n",
    "    string = string[4:]\n",
    "    string = string.replace(\"-\", \" \")\n",
    "    return string\n",
    "\n",
    "# 将这个链接换成对应的鸟的图片链接即可\n",
    "formatText(predict(model_ft, \"https://www.audubon.org/sites/default/files/styles/hero_cover_bird_page/public/web_h_andy-morffew_flickr-creative-common-by-2.0_altamiraoriole_flickr-3-adult.jpg?itok=ad9rnLPN\", show_img=True, url=True))"
   ],
   "metadata": {
    "collapsed": false,
    "ExecuteTime": {
     "end_time": "2024-11-28T12:23:27.403487500Z",
     "start_time": "2024-11-28T12:23:26.203899300Z"
    }
   }
  },
  {
   "cell_type": "code",
   "execution_count": null,
   "outputs": [],
   "source": [],
   "metadata": {
    "collapsed": false
   }
  }
 ],
 "metadata": {
  "kernelspec": {
   "display_name": "Python 3",
   "language": "python",
   "name": "python3"
  },
  "language_info": {
   "codemirror_mode": {
    "name": "ipython",
    "version": 2
   },
   "file_extension": ".py",
   "mimetype": "text/x-python",
   "name": "python",
   "nbconvert_exporter": "python",
   "pygments_lexer": "ipython2",
   "version": "2.7.6"
  }
 },
 "nbformat": 4,
 "nbformat_minor": 0
}
